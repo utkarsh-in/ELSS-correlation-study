{
  "nbformat": 4,
  "nbformat_minor": 0,
  "metadata": {
    "colab": {
      "name": "ELSS correlation study.ipynb",
      "provenance": [],
      "authorship_tag": "ABX9TyPROtksDRhCKIGhByjzbxAa",
      "include_colab_link": true
    },
    "kernelspec": {
      "name": "python3",
      "display_name": "Python 3"
    },
    "language_info": {
      "name": "python"
    }
  },
  "cells": [
    {
      "cell_type": "markdown",
      "metadata": {
        "id": "view-in-github",
        "colab_type": "text"
      },
      "source": [
        "<a href=\"https://colab.research.google.com/github/utkarsh-in/ELSS-correlation-study/blob/main/ELSS_correlation_study.ipynb\" target=\"_parent\"><img src=\"https://colab.research.google.com/assets/colab-badge.svg\" alt=\"Open In Colab\"/></a>"
      ]
    },
    {
      "cell_type": "markdown",
      "source": [
        "The goal of this notebook is to find commonality between ELSS mutual funds so that you can increase diversification when choosing more than one ELSS fund to invest in.\n",
        "\n",
        "The data is scraped in real-time from www.moneycontrol.com.\n",
        "\n",
        "We take a few assumptions (though the code is made s.t. the assumptions can reveresed with minimum changes):\n",
        "1. Ypu are looking at only the category of the stock holdings and not the stock itself.\n",
        "2. Default first choice is Quant Mutual fund due to its high returns compared to its peers.\n",
        "\n",
        "Conclusion:\n",
        "Canara robero elss fund had the lowest commality (~41%) and thus is the best choice for diversification.\n",
        "\n",
        "You can also find the experimental code at the end of the file."
      ],
      "metadata": {
        "id": "kP8w9jTnxoMK"
      }
    },
    {
      "cell_type": "code",
      "source": [
        "!pip install html-table-parser-python3"
      ],
      "metadata": {
        "id": "iPd3T-539tC9"
      },
      "execution_count": null,
      "outputs": []
    },
    {
      "cell_type": "code",
      "execution_count": null,
      "metadata": {
        "id": "8u1uOiE0xSTA"
      },
      "outputs": [],
      "source": [
        "import pandas as pd\n",
        "from html_table_parser.parser import HTMLTableParser\n",
        "import urllib.request"
      ]
    },
    {
      "cell_type": "code",
      "source": [
        "QUANT_URL = \"https://www.moneycontrol.com/mutual-funds/quant-tax-plan-direct-plan/portfolio-holdings/MES037\"\n",
        "CANARA_URL = \"https://www.moneycontrol.com/mutual-funds/canara-robeco-equity-tax-saver-fund-direct-plan/portfolio-overview/MCA200\"\n",
        "MIRAE_URL = \"https://www.moneycontrol.com/mutual-funds/mirae-asset-tax-saver-fund-regular-plan/portfolio-overview/MMA148\"\n",
        "IDFC_URL = \"https://www.moneycontrol.com/mutual-funds/idfc-tax-advantage-elss-fund-direct-plan/portfolio-overview/MAG741\"\n",
        "PGIM_URL = \"https://www.moneycontrol.com/mutual-funds/pgim-india-elss-tax-saver-fund-direct-plan-/portfolio-overview/MPA163\"\n",
        "PARAG_URL = \"https://www.moneycontrol.com/mutual-funds/parag-parikh-tax-saver-fund-regular-plan/portfolio-overview/MPP011\"\n",
        "DSP_URL = \"https://www.moneycontrol.com/mutual-funds/dsp-tax-saver-fund-regular/portfolio-overview/MDS060\""
      ],
      "metadata": {
        "id": "APJ_X8hdzyr4"
      },
      "execution_count": null,
      "outputs": []
    },
    {
      "cell_type": "code",
      "source": [
        "def url_get_contents(url):\n",
        "\n",
        "\t# Opens a website and read its\n",
        "\t# binary contents (HTTP Response Body)\n",
        "\n",
        "\t#making request to the website\n",
        "\treq = urllib.request.Request(url=url)\n",
        "\tf = urllib.request.urlopen(req)\n",
        "\n",
        "\t#reading contents of the website\n",
        "\treturn f.read()"
      ],
      "metadata": {
        "id": "S5pA6PrZ-ENK"
      },
      "execution_count": null,
      "outputs": []
    },
    {
      "cell_type": "code",
      "source": [
        "def get_data(url):\n",
        "  # defining the html contents of a URL.\n",
        "  xhtml = url_get_contents(url).decode('utf-8')\n",
        "\n",
        "  # Defining the HTMLTableParser object\n",
        "  p = HTMLTableParser()\n",
        "\n",
        "  # feeding the html contents in the\n",
        "  # HTMLTableParser object\n",
        "  p.feed(xhtml)\n",
        "\n",
        "  return pd.DataFrame(p.tables[3])"
      ],
      "metadata": {
        "id": "Ytz74N6Z-H4C"
      },
      "execution_count": null,
      "outputs": []
    },
    {
      "cell_type": "code",
      "source": [
        "def pre_process(data):\n",
        "  data = data.rename(columns=data.iloc[0]).drop(data.index[0])\n",
        "  data = data[['Sector', '% of Total Holdings']]\n",
        "  data['% of Total Holdings'] = data['% of Total Holdings'].str.rstrip('%').astype('float')\n",
        "  quant = data.groupby('Sector').sum()\n",
        "  return data"
      ],
      "metadata": {
        "id": "kmCIO3cvAuFc"
      },
      "execution_count": null,
      "outputs": []
    },
    {
      "cell_type": "code",
      "source": [
        "def find_common_invest(data1, data2):\n",
        "  percent_common = 0\n",
        "  categories = set(data1.index).union(set(data2.index))\n",
        "\n",
        "  for x in categories:\n",
        "    if (x in data1['% of Total Holdings'] and x in data2['% of Total Holdings']):\n",
        "      percent_common += min(data1['% of Total Holdings'][x], data2['% of Total Holdings'][x])\n",
        "\n",
        "  return percent_common"
      ],
      "metadata": {
        "id": "9PxhhrsqBAsM"
      },
      "execution_count": null,
      "outputs": []
    },
    {
      "cell_type": "code",
      "source": [
        "def find_common_invest_by_category(url1, url2=QUANT_URL):\n",
        "  data1 = pre_process(get_data(url1))\n",
        "  data2 = pre_process(get_data(url2))\n",
        "\n",
        "  print(find_common_invest(data1, data2))\n"
      ],
      "metadata": {
        "id": "ghBP8GkX9zyA"
      },
      "execution_count": null,
      "outputs": []
    },
    {
      "cell_type": "markdown",
      "source": [
        "Results:"
      ],
      "metadata": {
        "id": "n2sgc7iby3VH"
      }
    },
    {
      "cell_type": "code",
      "source": [
        "find_common_invest_by_category(CANARA_URL, QUANT_URL)"
      ],
      "metadata": {
        "colab": {
          "base_uri": "https://localhost:8080/"
        },
        "id": "KaZlxy29Bez_",
        "outputId": "5f6cf046-08a0-407b-964e-b7e8a646480a"
      },
      "execution_count": null,
      "outputs": [
        {
          "output_type": "stream",
          "name": "stdout",
          "text": [
            "41.980000000000004\n"
          ]
        }
      ]
    },
    {
      "cell_type": "code",
      "source": [
        "find_common_invest_by_category(MIRAE_URL, QUANT_URL)"
      ],
      "metadata": {
        "colab": {
          "base_uri": "https://localhost:8080/"
        },
        "id": "kCh3FKX0B_U9",
        "outputId": "c813f961-6d81-4a00-968e-a104ae9a5f42"
      },
      "execution_count": null,
      "outputs": [
        {
          "output_type": "stream",
          "name": "stdout",
          "text": [
            "44.22\n"
          ]
        }
      ]
    },
    {
      "cell_type": "code",
      "source": [
        "find_common_invest_by_category(IDFC_URL)"
      ],
      "metadata": {
        "colab": {
          "base_uri": "https://localhost:8080/"
        },
        "id": "3apuCc2HF1g9",
        "outputId": "82d2df40-22c9-49ef-9e96-f7333e2af1d6"
      },
      "execution_count": null,
      "outputs": [
        {
          "output_type": "stream",
          "name": "stdout",
          "text": [
            "41.01\n"
          ]
        }
      ]
    },
    {
      "cell_type": "code",
      "source": [
        "find_common_invest_by_category(PGIM_URL)"
      ],
      "metadata": {
        "colab": {
          "base_uri": "https://localhost:8080/"
        },
        "id": "s2PlDEoyGHh1",
        "outputId": "4d521168-7014-4a4c-884b-4c8408218814"
      },
      "execution_count": null,
      "outputs": [
        {
          "output_type": "stream",
          "name": "stdout",
          "text": [
            "46.99999999999999\n"
          ]
        }
      ]
    },
    {
      "cell_type": "code",
      "source": [
        "find_common_invest_by_category(PARAG_URL)"
      ],
      "metadata": {
        "colab": {
          "base_uri": "https://localhost:8080/"
        },
        "id": "yexx0e0uGOWM",
        "outputId": "22424b35-65c9-4038-c547-70f15107937c"
      },
      "execution_count": null,
      "outputs": [
        {
          "output_type": "stream",
          "name": "stdout",
          "text": [
            "49.51\n"
          ]
        }
      ]
    },
    {
      "cell_type": "code",
      "source": [
        "find_common_invest_by_category(DSP_URL)"
      ],
      "metadata": {
        "id": "n5F8LZYqGWha",
        "outputId": "94c1ba9a-d821-45d1-ad81-a89fb2dd97f9",
        "colab": {
          "base_uri": "https://localhost:8080/"
        }
      },
      "execution_count": null,
      "outputs": [
        {
          "output_type": "stream",
          "name": "stdout",
          "text": [
            "43.7\n"
          ]
        }
      ]
    },
    {
      "cell_type": "markdown",
      "source": [
        "Experimental code after this \n"
      ],
      "metadata": {
        "id": "eoz2Kxa1F2mp"
      }
    },
    {
      "cell_type": "code",
      "source": [
        "url = QUANT_URL"
      ],
      "metadata": {
        "id": "d_C9tpnS_Yua"
      },
      "execution_count": null,
      "outputs": []
    },
    {
      "cell_type": "code",
      "source": [
        "data = get_data(url)\n",
        "def pre_process(data):\n",
        "  data = data.rename(columns=data.iloc[0]).drop(data.index[0])\n",
        "  data = data[['Sector', '% of Total Holdings']]\n",
        "  data['% of Total Holdings'] = data['% of Total Holdings'].str.rstrip('%').astype('float')\n",
        "  quant = data.groupby('Sector').sum()\n",
        "  return data"
      ],
      "metadata": {
        "colab": {
          "base_uri": "https://localhost:8080/",
          "height": 363
        },
        "id": "b_OGL8js_WxJ",
        "outputId": "68e32659-23e2-4960-c4d6-442fc124e3b3"
      },
      "execution_count": null,
      "outputs": [
        {
          "output_type": "execute_result",
          "data": {
            "text/plain": [
              "                                  Sector  % of Total Holdings\n",
              "1                                  Banks                 7.41\n",
              "2                             Cigarettes                 6.62\n",
              "3                                  Banks                 6.24\n",
              "4                          Consumer food                 6.18\n",
              "5                                Trading                 5.37\n",
              "6   Engineering, designing, construction                 4.33\n",
              "7                                   Port                 4.12\n",
              "8                   Refineries/marketing                 3.47\n",
              "9                        Oil exploration                 3.38\n",
              "10                                Cement                 3.32"
            ],
            "text/html": [
              "\n",
              "  <div id=\"df-dd3d9126-58e2-43f4-9347-3e220a00b3b2\">\n",
              "    <div class=\"colab-df-container\">\n",
              "      <div>\n",
              "<style scoped>\n",
              "    .dataframe tbody tr th:only-of-type {\n",
              "        vertical-align: middle;\n",
              "    }\n",
              "\n",
              "    .dataframe tbody tr th {\n",
              "        vertical-align: top;\n",
              "    }\n",
              "\n",
              "    .dataframe thead th {\n",
              "        text-align: right;\n",
              "    }\n",
              "</style>\n",
              "<table border=\"1\" class=\"dataframe\">\n",
              "  <thead>\n",
              "    <tr style=\"text-align: right;\">\n",
              "      <th></th>\n",
              "      <th>Sector</th>\n",
              "      <th>% of Total Holdings</th>\n",
              "    </tr>\n",
              "  </thead>\n",
              "  <tbody>\n",
              "    <tr>\n",
              "      <th>1</th>\n",
              "      <td>Banks</td>\n",
              "      <td>7.41</td>\n",
              "    </tr>\n",
              "    <tr>\n",
              "      <th>2</th>\n",
              "      <td>Cigarettes</td>\n",
              "      <td>6.62</td>\n",
              "    </tr>\n",
              "    <tr>\n",
              "      <th>3</th>\n",
              "      <td>Banks</td>\n",
              "      <td>6.24</td>\n",
              "    </tr>\n",
              "    <tr>\n",
              "      <th>4</th>\n",
              "      <td>Consumer food</td>\n",
              "      <td>6.18</td>\n",
              "    </tr>\n",
              "    <tr>\n",
              "      <th>5</th>\n",
              "      <td>Trading</td>\n",
              "      <td>5.37</td>\n",
              "    </tr>\n",
              "    <tr>\n",
              "      <th>6</th>\n",
              "      <td>Engineering, designing, construction</td>\n",
              "      <td>4.33</td>\n",
              "    </tr>\n",
              "    <tr>\n",
              "      <th>7</th>\n",
              "      <td>Port</td>\n",
              "      <td>4.12</td>\n",
              "    </tr>\n",
              "    <tr>\n",
              "      <th>8</th>\n",
              "      <td>Refineries/marketing</td>\n",
              "      <td>3.47</td>\n",
              "    </tr>\n",
              "    <tr>\n",
              "      <th>9</th>\n",
              "      <td>Oil exploration</td>\n",
              "      <td>3.38</td>\n",
              "    </tr>\n",
              "    <tr>\n",
              "      <th>10</th>\n",
              "      <td>Cement</td>\n",
              "      <td>3.32</td>\n",
              "    </tr>\n",
              "  </tbody>\n",
              "</table>\n",
              "</div>\n",
              "      <button class=\"colab-df-convert\" onclick=\"convertToInteractive('df-dd3d9126-58e2-43f4-9347-3e220a00b3b2')\"\n",
              "              title=\"Convert this dataframe to an interactive table.\"\n",
              "              style=\"display:none;\">\n",
              "        \n",
              "  <svg xmlns=\"http://www.w3.org/2000/svg\" height=\"24px\"viewBox=\"0 0 24 24\"\n",
              "       width=\"24px\">\n",
              "    <path d=\"M0 0h24v24H0V0z\" fill=\"none\"/>\n",
              "    <path d=\"M18.56 5.44l.94 2.06.94-2.06 2.06-.94-2.06-.94-.94-2.06-.94 2.06-2.06.94zm-11 1L8.5 8.5l.94-2.06 2.06-.94-2.06-.94L8.5 2.5l-.94 2.06-2.06.94zm10 10l.94 2.06.94-2.06 2.06-.94-2.06-.94-.94-2.06-.94 2.06-2.06.94z\"/><path d=\"M17.41 7.96l-1.37-1.37c-.4-.4-.92-.59-1.43-.59-.52 0-1.04.2-1.43.59L10.3 9.45l-7.72 7.72c-.78.78-.78 2.05 0 2.83L4 21.41c.39.39.9.59 1.41.59.51 0 1.02-.2 1.41-.59l7.78-7.78 2.81-2.81c.8-.78.8-2.07 0-2.86zM5.41 20L4 18.59l7.72-7.72 1.47 1.35L5.41 20z\"/>\n",
              "  </svg>\n",
              "      </button>\n",
              "      \n",
              "  <style>\n",
              "    .colab-df-container {\n",
              "      display:flex;\n",
              "      flex-wrap:wrap;\n",
              "      gap: 12px;\n",
              "    }\n",
              "\n",
              "    .colab-df-convert {\n",
              "      background-color: #E8F0FE;\n",
              "      border: none;\n",
              "      border-radius: 50%;\n",
              "      cursor: pointer;\n",
              "      display: none;\n",
              "      fill: #1967D2;\n",
              "      height: 32px;\n",
              "      padding: 0 0 0 0;\n",
              "      width: 32px;\n",
              "    }\n",
              "\n",
              "    .colab-df-convert:hover {\n",
              "      background-color: #E2EBFA;\n",
              "      box-shadow: 0px 1px 2px rgba(60, 64, 67, 0.3), 0px 1px 3px 1px rgba(60, 64, 67, 0.15);\n",
              "      fill: #174EA6;\n",
              "    }\n",
              "\n",
              "    [theme=dark] .colab-df-convert {\n",
              "      background-color: #3B4455;\n",
              "      fill: #D2E3FC;\n",
              "    }\n",
              "\n",
              "    [theme=dark] .colab-df-convert:hover {\n",
              "      background-color: #434B5C;\n",
              "      box-shadow: 0px 1px 3px 1px rgba(0, 0, 0, 0.15);\n",
              "      filter: drop-shadow(0px 1px 2px rgba(0, 0, 0, 0.3));\n",
              "      fill: #FFFFFF;\n",
              "    }\n",
              "  </style>\n",
              "\n",
              "      <script>\n",
              "        const buttonEl =\n",
              "          document.querySelector('#df-dd3d9126-58e2-43f4-9347-3e220a00b3b2 button.colab-df-convert');\n",
              "        buttonEl.style.display =\n",
              "          google.colab.kernel.accessAllowed ? 'block' : 'none';\n",
              "\n",
              "        async function convertToInteractive(key) {\n",
              "          const element = document.querySelector('#df-dd3d9126-58e2-43f4-9347-3e220a00b3b2');\n",
              "          const dataTable =\n",
              "            await google.colab.kernel.invokeFunction('convertToInteractive',\n",
              "                                                     [key], {});\n",
              "          if (!dataTable) return;\n",
              "\n",
              "          const docLinkHtml = 'Like what you see? Visit the ' +\n",
              "            '<a target=\"_blank\" href=https://colab.research.google.com/notebooks/data_table.ipynb>data table notebook</a>'\n",
              "            + ' to learn more about interactive tables.';\n",
              "          element.innerHTML = '';\n",
              "          dataTable['output_type'] = 'display_data';\n",
              "          await google.colab.output.renderOutput(dataTable, element);\n",
              "          const docLink = document.createElement('div');\n",
              "          docLink.innerHTML = docLinkHtml;\n",
              "          element.appendChild(docLink);\n",
              "        }\n",
              "      </script>\n",
              "    </div>\n",
              "  </div>\n",
              "  "
            ]
          },
          "metadata": {},
          "execution_count": 84
        }
      ]
    },
    {
      "cell_type": "code",
      "source": [
        "# READ AND PREPROCESS DATA\n",
        "\n",
        "data = pd.read_csv('ELSS.csv')\n",
        "data['percent_quant'] = data['percent_quant'].str.rstrip('%').astype('float')\n",
        "data['percent_canara'] = data['percent_canara'].str.rstrip('%').astype('float')\n",
        "\n",
        "data.head()"
      ],
      "metadata": {
        "colab": {
          "base_uri": "https://localhost:8080/",
          "height": 206
        },
        "id": "BDAlUvP-xY58",
        "outputId": "f46f5866-7afd-45ee-d1e1-f828ecd60f1c"
      },
      "execution_count": null,
      "outputs": [
        {
          "output_type": "execute_result",
          "data": {
            "text/plain": [
              "                 stocks_quant   sector_quant  percent_quant  \\\n",
              "0         State Bank Of India          Banks           7.41   \n",
              "1                 ITC Limited     Cigarettes           6.62   \n",
              "2             ICICI Bank Ltd.          Banks           6.24   \n",
              "3  Ruchi Soya Industries Ltd.  Consumer food           6.18   \n",
              "4      Adani Enterprises Ltd.        Trading           5.37   \n",
              "\n",
              "              stocks_canara         sector_canara  percent_canara  \n",
              "0           ICICI Bank Ltd.                 Banks            7.39  \n",
              "1  Reliance Industries Ltd.  Refineries/marketing            7.00  \n",
              "2              Infosys Ltd.  Computers - software            6.95  \n",
              "3            HDFC Bank Ltd.                 Banks            6.68  \n",
              "4       State Bank Of India                 Banks            3.03  "
            ],
            "text/html": [
              "\n",
              "  <div id=\"df-0be992ad-1802-45f7-8c0b-5ff7b2845f69\">\n",
              "    <div class=\"colab-df-container\">\n",
              "      <div>\n",
              "<style scoped>\n",
              "    .dataframe tbody tr th:only-of-type {\n",
              "        vertical-align: middle;\n",
              "    }\n",
              "\n",
              "    .dataframe tbody tr th {\n",
              "        vertical-align: top;\n",
              "    }\n",
              "\n",
              "    .dataframe thead th {\n",
              "        text-align: right;\n",
              "    }\n",
              "</style>\n",
              "<table border=\"1\" class=\"dataframe\">\n",
              "  <thead>\n",
              "    <tr style=\"text-align: right;\">\n",
              "      <th></th>\n",
              "      <th>stocks_quant</th>\n",
              "      <th>sector_quant</th>\n",
              "      <th>percent_quant</th>\n",
              "      <th>stocks_canara</th>\n",
              "      <th>sector_canara</th>\n",
              "      <th>percent_canara</th>\n",
              "    </tr>\n",
              "  </thead>\n",
              "  <tbody>\n",
              "    <tr>\n",
              "      <th>0</th>\n",
              "      <td>State Bank Of India</td>\n",
              "      <td>Banks</td>\n",
              "      <td>7.41</td>\n",
              "      <td>ICICI Bank Ltd.</td>\n",
              "      <td>Banks</td>\n",
              "      <td>7.39</td>\n",
              "    </tr>\n",
              "    <tr>\n",
              "      <th>1</th>\n",
              "      <td>ITC Limited</td>\n",
              "      <td>Cigarettes</td>\n",
              "      <td>6.62</td>\n",
              "      <td>Reliance Industries Ltd.</td>\n",
              "      <td>Refineries/marketing</td>\n",
              "      <td>7.00</td>\n",
              "    </tr>\n",
              "    <tr>\n",
              "      <th>2</th>\n",
              "      <td>ICICI Bank Ltd.</td>\n",
              "      <td>Banks</td>\n",
              "      <td>6.24</td>\n",
              "      <td>Infosys Ltd.</td>\n",
              "      <td>Computers - software</td>\n",
              "      <td>6.95</td>\n",
              "    </tr>\n",
              "    <tr>\n",
              "      <th>3</th>\n",
              "      <td>Ruchi Soya Industries Ltd.</td>\n",
              "      <td>Consumer food</td>\n",
              "      <td>6.18</td>\n",
              "      <td>HDFC Bank Ltd.</td>\n",
              "      <td>Banks</td>\n",
              "      <td>6.68</td>\n",
              "    </tr>\n",
              "    <tr>\n",
              "      <th>4</th>\n",
              "      <td>Adani Enterprises Ltd.</td>\n",
              "      <td>Trading</td>\n",
              "      <td>5.37</td>\n",
              "      <td>State Bank Of India</td>\n",
              "      <td>Banks</td>\n",
              "      <td>3.03</td>\n",
              "    </tr>\n",
              "  </tbody>\n",
              "</table>\n",
              "</div>\n",
              "      <button class=\"colab-df-convert\" onclick=\"convertToInteractive('df-0be992ad-1802-45f7-8c0b-5ff7b2845f69')\"\n",
              "              title=\"Convert this dataframe to an interactive table.\"\n",
              "              style=\"display:none;\">\n",
              "        \n",
              "  <svg xmlns=\"http://www.w3.org/2000/svg\" height=\"24px\"viewBox=\"0 0 24 24\"\n",
              "       width=\"24px\">\n",
              "    <path d=\"M0 0h24v24H0V0z\" fill=\"none\"/>\n",
              "    <path d=\"M18.56 5.44l.94 2.06.94-2.06 2.06-.94-2.06-.94-.94-2.06-.94 2.06-2.06.94zm-11 1L8.5 8.5l.94-2.06 2.06-.94-2.06-.94L8.5 2.5l-.94 2.06-2.06.94zm10 10l.94 2.06.94-2.06 2.06-.94-2.06-.94-.94-2.06-.94 2.06-2.06.94z\"/><path d=\"M17.41 7.96l-1.37-1.37c-.4-.4-.92-.59-1.43-.59-.52 0-1.04.2-1.43.59L10.3 9.45l-7.72 7.72c-.78.78-.78 2.05 0 2.83L4 21.41c.39.39.9.59 1.41.59.51 0 1.02-.2 1.41-.59l7.78-7.78 2.81-2.81c.8-.78.8-2.07 0-2.86zM5.41 20L4 18.59l7.72-7.72 1.47 1.35L5.41 20z\"/>\n",
              "  </svg>\n",
              "      </button>\n",
              "      \n",
              "  <style>\n",
              "    .colab-df-container {\n",
              "      display:flex;\n",
              "      flex-wrap:wrap;\n",
              "      gap: 12px;\n",
              "    }\n",
              "\n",
              "    .colab-df-convert {\n",
              "      background-color: #E8F0FE;\n",
              "      border: none;\n",
              "      border-radius: 50%;\n",
              "      cursor: pointer;\n",
              "      display: none;\n",
              "      fill: #1967D2;\n",
              "      height: 32px;\n",
              "      padding: 0 0 0 0;\n",
              "      width: 32px;\n",
              "    }\n",
              "\n",
              "    .colab-df-convert:hover {\n",
              "      background-color: #E2EBFA;\n",
              "      box-shadow: 0px 1px 2px rgba(60, 64, 67, 0.3), 0px 1px 3px 1px rgba(60, 64, 67, 0.15);\n",
              "      fill: #174EA6;\n",
              "    }\n",
              "\n",
              "    [theme=dark] .colab-df-convert {\n",
              "      background-color: #3B4455;\n",
              "      fill: #D2E3FC;\n",
              "    }\n",
              "\n",
              "    [theme=dark] .colab-df-convert:hover {\n",
              "      background-color: #434B5C;\n",
              "      box-shadow: 0px 1px 3px 1px rgba(0, 0, 0, 0.15);\n",
              "      filter: drop-shadow(0px 1px 2px rgba(0, 0, 0, 0.3));\n",
              "      fill: #FFFFFF;\n",
              "    }\n",
              "  </style>\n",
              "\n",
              "      <script>\n",
              "        const buttonEl =\n",
              "          document.querySelector('#df-0be992ad-1802-45f7-8c0b-5ff7b2845f69 button.colab-df-convert');\n",
              "        buttonEl.style.display =\n",
              "          google.colab.kernel.accessAllowed ? 'block' : 'none';\n",
              "\n",
              "        async function convertToInteractive(key) {\n",
              "          const element = document.querySelector('#df-0be992ad-1802-45f7-8c0b-5ff7b2845f69');\n",
              "          const dataTable =\n",
              "            await google.colab.kernel.invokeFunction('convertToInteractive',\n",
              "                                                     [key], {});\n",
              "          if (!dataTable) return;\n",
              "\n",
              "          const docLinkHtml = 'Like what you see? Visit the ' +\n",
              "            '<a target=\"_blank\" href=https://colab.research.google.com/notebooks/data_table.ipynb>data table notebook</a>'\n",
              "            + ' to learn more about interactive tables.';\n",
              "          element.innerHTML = '';\n",
              "          dataTable['output_type'] = 'display_data';\n",
              "          await google.colab.output.renderOutput(dataTable, element);\n",
              "          const docLink = document.createElement('div');\n",
              "          docLink.innerHTML = docLinkHtml;\n",
              "          element.appendChild(docLink);\n",
              "        }\n",
              "      </script>\n",
              "    </div>\n",
              "  </div>\n",
              "  "
            ]
          },
          "metadata": {},
          "execution_count": 17
        }
      ]
    },
    {
      "cell_type": "code",
      "source": [
        "quant = data[['sector_quant', 'percent_quant']].groupby('sector_quant').sum()\n",
        "canara = data[['sector_canara', 'percent_canara']].groupby('sector_canara').sum()"
      ],
      "metadata": {
        "id": "QgUPYArQyxTq"
      },
      "execution_count": null,
      "outputs": []
    },
    {
      "cell_type": "code",
      "source": [
        "canara"
      ],
      "metadata": {
        "colab": {
          "base_uri": "https://localhost:8080/",
          "height": 1000
        },
        "id": "qFpXHpBk0ko2",
        "outputId": "edb8aa22-5769-41bc-bb8a-38da2accc08e"
      },
      "execution_count": null,
      "outputs": [
        {
          "output_type": "execute_result",
          "data": {
            "text/plain": [
              "                                      percent_canara\n",
              "sector_canara                                       \n",
              "Aluminium                                       0.86\n",
              "Auto ancillaries                                2.32\n",
              "Banks                                          21.66\n",
              "Bearings                                        2.12\n",
              "Brew/distilleries                               1.97\n",
              "Cement                                          2.25\n",
              "Chemicals - inorganic                           1.70\n",
              "Chemicals - speciality                          1.01\n",
              "Computers - software                           11.00\n",
              "Diversified                                     2.20\n",
              "Engineering, designing, construction            3.16\n",
              "Fabrics and garments                            1.26\n",
              "Gas transmission/marketing                      0.40\n",
              "Gems, jewellery and watches                     0.90\n",
              "Hospital                                        1.18\n",
              "Hotels/resorts                                  1.52\n",
              "Housing finance                                 1.84\n",
              "Industrial electronics                          1.84\n",
              "Insurance                                       0.75\n",
              "Leather and leather products                    1.42\n",
              "Logistics solution provider                     0.72\n",
              "Motor cycles/scooters                           0.87\n",
              "Nbfc                                            4.04\n",
              "Paints                                          0.85\n",
              "Passenger/utility vehicles                      3.53\n",
              "Personal care                                   0.86\n",
              "Pesticides and agrochemicals                    1.47\n",
              "Pharmaceuticals                                 5.40\n",
              "Power                                           0.97\n",
              "Power equipment                                 3.35\n",
              "Refineries/marketing                            7.00\n",
              "Residential/commercial/sez project              1.47\n",
              "Retailing                                       1.44\n",
              "Tea & coffee                                    0.09\n",
              "Telecom - services                              2.46"
            ],
            "text/html": [
              "\n",
              "  <div id=\"df-b8197d0a-3ee0-4ce2-a3a9-d01b2e4797a3\">\n",
              "    <div class=\"colab-df-container\">\n",
              "      <div>\n",
              "<style scoped>\n",
              "    .dataframe tbody tr th:only-of-type {\n",
              "        vertical-align: middle;\n",
              "    }\n",
              "\n",
              "    .dataframe tbody tr th {\n",
              "        vertical-align: top;\n",
              "    }\n",
              "\n",
              "    .dataframe thead th {\n",
              "        text-align: right;\n",
              "    }\n",
              "</style>\n",
              "<table border=\"1\" class=\"dataframe\">\n",
              "  <thead>\n",
              "    <tr style=\"text-align: right;\">\n",
              "      <th></th>\n",
              "      <th>percent_canara</th>\n",
              "    </tr>\n",
              "    <tr>\n",
              "      <th>sector_canara</th>\n",
              "      <th></th>\n",
              "    </tr>\n",
              "  </thead>\n",
              "  <tbody>\n",
              "    <tr>\n",
              "      <th>Aluminium</th>\n",
              "      <td>0.86</td>\n",
              "    </tr>\n",
              "    <tr>\n",
              "      <th>Auto ancillaries</th>\n",
              "      <td>2.32</td>\n",
              "    </tr>\n",
              "    <tr>\n",
              "      <th>Banks</th>\n",
              "      <td>21.66</td>\n",
              "    </tr>\n",
              "    <tr>\n",
              "      <th>Bearings</th>\n",
              "      <td>2.12</td>\n",
              "    </tr>\n",
              "    <tr>\n",
              "      <th>Brew/distilleries</th>\n",
              "      <td>1.97</td>\n",
              "    </tr>\n",
              "    <tr>\n",
              "      <th>Cement</th>\n",
              "      <td>2.25</td>\n",
              "    </tr>\n",
              "    <tr>\n",
              "      <th>Chemicals - inorganic</th>\n",
              "      <td>1.70</td>\n",
              "    </tr>\n",
              "    <tr>\n",
              "      <th>Chemicals - speciality</th>\n",
              "      <td>1.01</td>\n",
              "    </tr>\n",
              "    <tr>\n",
              "      <th>Computers - software</th>\n",
              "      <td>11.00</td>\n",
              "    </tr>\n",
              "    <tr>\n",
              "      <th>Diversified</th>\n",
              "      <td>2.20</td>\n",
              "    </tr>\n",
              "    <tr>\n",
              "      <th>Engineering, designing, construction</th>\n",
              "      <td>3.16</td>\n",
              "    </tr>\n",
              "    <tr>\n",
              "      <th>Fabrics and garments</th>\n",
              "      <td>1.26</td>\n",
              "    </tr>\n",
              "    <tr>\n",
              "      <th>Gas transmission/marketing</th>\n",
              "      <td>0.40</td>\n",
              "    </tr>\n",
              "    <tr>\n",
              "      <th>Gems, jewellery and watches</th>\n",
              "      <td>0.90</td>\n",
              "    </tr>\n",
              "    <tr>\n",
              "      <th>Hospital</th>\n",
              "      <td>1.18</td>\n",
              "    </tr>\n",
              "    <tr>\n",
              "      <th>Hotels/resorts</th>\n",
              "      <td>1.52</td>\n",
              "    </tr>\n",
              "    <tr>\n",
              "      <th>Housing finance</th>\n",
              "      <td>1.84</td>\n",
              "    </tr>\n",
              "    <tr>\n",
              "      <th>Industrial electronics</th>\n",
              "      <td>1.84</td>\n",
              "    </tr>\n",
              "    <tr>\n",
              "      <th>Insurance</th>\n",
              "      <td>0.75</td>\n",
              "    </tr>\n",
              "    <tr>\n",
              "      <th>Leather and leather products</th>\n",
              "      <td>1.42</td>\n",
              "    </tr>\n",
              "    <tr>\n",
              "      <th>Logistics solution provider</th>\n",
              "      <td>0.72</td>\n",
              "    </tr>\n",
              "    <tr>\n",
              "      <th>Motor cycles/scooters</th>\n",
              "      <td>0.87</td>\n",
              "    </tr>\n",
              "    <tr>\n",
              "      <th>Nbfc</th>\n",
              "      <td>4.04</td>\n",
              "    </tr>\n",
              "    <tr>\n",
              "      <th>Paints</th>\n",
              "      <td>0.85</td>\n",
              "    </tr>\n",
              "    <tr>\n",
              "      <th>Passenger/utility vehicles</th>\n",
              "      <td>3.53</td>\n",
              "    </tr>\n",
              "    <tr>\n",
              "      <th>Personal care</th>\n",
              "      <td>0.86</td>\n",
              "    </tr>\n",
              "    <tr>\n",
              "      <th>Pesticides and agrochemicals</th>\n",
              "      <td>1.47</td>\n",
              "    </tr>\n",
              "    <tr>\n",
              "      <th>Pharmaceuticals</th>\n",
              "      <td>5.40</td>\n",
              "    </tr>\n",
              "    <tr>\n",
              "      <th>Power</th>\n",
              "      <td>0.97</td>\n",
              "    </tr>\n",
              "    <tr>\n",
              "      <th>Power equipment</th>\n",
              "      <td>3.35</td>\n",
              "    </tr>\n",
              "    <tr>\n",
              "      <th>Refineries/marketing</th>\n",
              "      <td>7.00</td>\n",
              "    </tr>\n",
              "    <tr>\n",
              "      <th>Residential/commercial/sez project</th>\n",
              "      <td>1.47</td>\n",
              "    </tr>\n",
              "    <tr>\n",
              "      <th>Retailing</th>\n",
              "      <td>1.44</td>\n",
              "    </tr>\n",
              "    <tr>\n",
              "      <th>Tea &amp; coffee</th>\n",
              "      <td>0.09</td>\n",
              "    </tr>\n",
              "    <tr>\n",
              "      <th>Telecom - services</th>\n",
              "      <td>2.46</td>\n",
              "    </tr>\n",
              "  </tbody>\n",
              "</table>\n",
              "</div>\n",
              "      <button class=\"colab-df-convert\" onclick=\"convertToInteractive('df-b8197d0a-3ee0-4ce2-a3a9-d01b2e4797a3')\"\n",
              "              title=\"Convert this dataframe to an interactive table.\"\n",
              "              style=\"display:none;\">\n",
              "        \n",
              "  <svg xmlns=\"http://www.w3.org/2000/svg\" height=\"24px\"viewBox=\"0 0 24 24\"\n",
              "       width=\"24px\">\n",
              "    <path d=\"M0 0h24v24H0V0z\" fill=\"none\"/>\n",
              "    <path d=\"M18.56 5.44l.94 2.06.94-2.06 2.06-.94-2.06-.94-.94-2.06-.94 2.06-2.06.94zm-11 1L8.5 8.5l.94-2.06 2.06-.94-2.06-.94L8.5 2.5l-.94 2.06-2.06.94zm10 10l.94 2.06.94-2.06 2.06-.94-2.06-.94-.94-2.06-.94 2.06-2.06.94z\"/><path d=\"M17.41 7.96l-1.37-1.37c-.4-.4-.92-.59-1.43-.59-.52 0-1.04.2-1.43.59L10.3 9.45l-7.72 7.72c-.78.78-.78 2.05 0 2.83L4 21.41c.39.39.9.59 1.41.59.51 0 1.02-.2 1.41-.59l7.78-7.78 2.81-2.81c.8-.78.8-2.07 0-2.86zM5.41 20L4 18.59l7.72-7.72 1.47 1.35L5.41 20z\"/>\n",
              "  </svg>\n",
              "      </button>\n",
              "      \n",
              "  <style>\n",
              "    .colab-df-container {\n",
              "      display:flex;\n",
              "      flex-wrap:wrap;\n",
              "      gap: 12px;\n",
              "    }\n",
              "\n",
              "    .colab-df-convert {\n",
              "      background-color: #E8F0FE;\n",
              "      border: none;\n",
              "      border-radius: 50%;\n",
              "      cursor: pointer;\n",
              "      display: none;\n",
              "      fill: #1967D2;\n",
              "      height: 32px;\n",
              "      padding: 0 0 0 0;\n",
              "      width: 32px;\n",
              "    }\n",
              "\n",
              "    .colab-df-convert:hover {\n",
              "      background-color: #E2EBFA;\n",
              "      box-shadow: 0px 1px 2px rgba(60, 64, 67, 0.3), 0px 1px 3px 1px rgba(60, 64, 67, 0.15);\n",
              "      fill: #174EA6;\n",
              "    }\n",
              "\n",
              "    [theme=dark] .colab-df-convert {\n",
              "      background-color: #3B4455;\n",
              "      fill: #D2E3FC;\n",
              "    }\n",
              "\n",
              "    [theme=dark] .colab-df-convert:hover {\n",
              "      background-color: #434B5C;\n",
              "      box-shadow: 0px 1px 3px 1px rgba(0, 0, 0, 0.15);\n",
              "      filter: drop-shadow(0px 1px 2px rgba(0, 0, 0, 0.3));\n",
              "      fill: #FFFFFF;\n",
              "    }\n",
              "  </style>\n",
              "\n",
              "      <script>\n",
              "        const buttonEl =\n",
              "          document.querySelector('#df-b8197d0a-3ee0-4ce2-a3a9-d01b2e4797a3 button.colab-df-convert');\n",
              "        buttonEl.style.display =\n",
              "          google.colab.kernel.accessAllowed ? 'block' : 'none';\n",
              "\n",
              "        async function convertToInteractive(key) {\n",
              "          const element = document.querySelector('#df-b8197d0a-3ee0-4ce2-a3a9-d01b2e4797a3');\n",
              "          const dataTable =\n",
              "            await google.colab.kernel.invokeFunction('convertToInteractive',\n",
              "                                                     [key], {});\n",
              "          if (!dataTable) return;\n",
              "\n",
              "          const docLinkHtml = 'Like what you see? Visit the ' +\n",
              "            '<a target=\"_blank\" href=https://colab.research.google.com/notebooks/data_table.ipynb>data table notebook</a>'\n",
              "            + ' to learn more about interactive tables.';\n",
              "          element.innerHTML = '';\n",
              "          dataTable['output_type'] = 'display_data';\n",
              "          await google.colab.output.renderOutput(dataTable, element);\n",
              "          const docLink = document.createElement('div');\n",
              "          docLink.innerHTML = docLinkHtml;\n",
              "          element.appendChild(docLink);\n",
              "        }\n",
              "      </script>\n",
              "    </div>\n",
              "  </div>\n",
              "  "
            ]
          },
          "metadata": {},
          "execution_count": 41
        }
      ]
    },
    {
      "cell_type": "code",
      "source": [
        "# FIND % COMMON STOCKS BY CATEGORY\n",
        "\n",
        "percent_common = 0\n",
        "categories = set(quant.index).union(set(canara.index))\n",
        "\n",
        "for x in categories:\n",
        "  if (x in canara['percent_canara'] and x in quant['percent_quant']):\n",
        "    percent_common += min(canara['percent_canara'][x], quant['percent_quant'][x])\n",
        "\n",
        "percent_common"
      ],
      "metadata": {
        "colab": {
          "base_uri": "https://localhost:8080/"
        },
        "id": "yeGgONV1yXS3",
        "outputId": "f09c0a94-1d22-447a-952c-7ebab06cea6b"
      },
      "execution_count": null,
      "outputs": [
        {
          "output_type": "execute_result",
          "data": {
            "text/plain": [
              "40.79"
            ]
          },
          "metadata": {},
          "execution_count": 49
        }
      ]
    },
    {
      "cell_type": "code",
      "source": [
        ""
      ],
      "metadata": {
        "colab": {
          "base_uri": "https://localhost:8080/"
        },
        "id": "y_s60tz-y7o0",
        "outputId": "50f5c5f1-2f7d-4807-e965-638306347842"
      },
      "execution_count": null,
      "outputs": [
        {
          "output_type": "execute_result",
          "data": {
            "text/plain": [
              "{'Aluminium',\n",
              " 'Auto ancillaries',\n",
              " 'Banks',\n",
              " 'Bearings',\n",
              " 'Brew/distilleries',\n",
              " 'Cement',\n",
              " 'Chemicals - inorganic',\n",
              " 'Chemicals - speciality',\n",
              " 'Cigarettes',\n",
              " 'Commercial vehicles',\n",
              " 'Computers - software',\n",
              " 'Construction civil',\n",
              " 'Consumer food',\n",
              " 'Consumer products',\n",
              " 'Copper & copper products',\n",
              " 'Diversified',\n",
              " 'Engineering, designing, construction',\n",
              " 'Fabrics and garments',\n",
              " 'Gas transmission/marketing',\n",
              " 'Gems, jewellery and watches',\n",
              " 'Hospital',\n",
              " 'Hotels/resorts',\n",
              " 'Housing finance',\n",
              " 'Industrial electronics',\n",
              " 'Industrial gas',\n",
              " 'Insurance',\n",
              " 'It enabled services – software',\n",
              " 'Leather and leather products',\n",
              " 'Logistics solution provider',\n",
              " 'Lpg/cng/png/lng supplier',\n",
              " 'Motor cycles/scooters',\n",
              " 'Nbfc',\n",
              " 'Oil exploration',\n",
              " 'Other financial services',\n",
              " 'Paints',\n",
              " 'Passenger/utility vehicles',\n",
              " 'Personal care',\n",
              " 'Pesticides and agrochemicals',\n",
              " 'Pharmaceuticals',\n",
              " 'Port',\n",
              " 'Power',\n",
              " 'Power equipment',\n",
              " 'Refineries/marketing',\n",
              " 'Residential/commercial/sez project',\n",
              " 'Retailing',\n",
              " 'Spinning-cotton/blended',\n",
              " 'Tea & coffee',\n",
              " 'Telecom - equipment',\n",
              " 'Telecom - services',\n",
              " 'Trading',\n",
              " 'Tv broadcasting & software production'}"
            ]
          },
          "metadata": {},
          "execution_count": 48
        }
      ]
    },
    {
      "cell_type": "code",
      "source": [
        "# SCRAPING LATEST DATA\n",
        "\n"
      ],
      "metadata": {
        "colab": {
          "base_uri": "https://localhost:8080/"
        },
        "id": "WjHp_-ck2141",
        "outputId": "ff2eec58-a509-4076-8ff6-98924ea169e4"
      },
      "execution_count": null,
      "outputs": [
        {
          "output_type": "stream",
          "name": "stdout",
          "text": [
            "Looking in indexes: https://pypi.org/simple, https://us-python.pkg.dev/colab-wheels/public/simple/\n",
            "Collecting html-table-parser-python3\n",
            "  Downloading html_table_parser_python3-0.2.0-py3-none-any.whl (15 kB)\n",
            "Installing collected packages: html-table-parser-python3\n",
            "Successfully installed html-table-parser-python3-0.2.0\n"
          ]
        }
      ]
    },
    {
      "cell_type": "code",
      "source": [
        "# Library for opening url and creating\n",
        "# requests\n",
        "\n",
        "\n",
        "# pretty-print python data structures\n",
        "from pprint import pprint\n",
        "\n",
        "# for parsing all the tables present\n",
        "# on the website\n",
        "\n",
        "\n",
        "# for converting the parsed data in a\n",
        "# pandas dataframe\n",
        "import pandas as pd\n",
        "\n",
        "\n",
        "# Opens a website and read its\n",
        "# binary contents (HTTP Response Body)\n",
        "\n",
        "\n"
      ],
      "metadata": {
        "colab": {
          "base_uri": "https://localhost:8080/"
        },
        "id": "0xzzHrIM76IF",
        "outputId": "71ab3c9f-328e-49f2-a433-e71e7f4015b0"
      },
      "execution_count": null,
      "outputs": [
        {
          "output_type": "stream",
          "name": "stdout",
          "text": [
            "[['Particulars', 'This Scheme', 'Category'],\n",
            " ['No. of Stocks', '52', '47.54'],\n",
            " ['Top 5 Stock Weight', '31.82%', '30.29%'],\n",
            " ['Top 10 Stock Weight', '50.44%', '47.8%'],\n",
            " ['Top 3 Sector Weight', '31.81%', '38.88%']]\n",
            "\n",
            "\n",
            "PANDAS DATAFRAME\n",
            "\n",
            "                     0            1         2\n",
            "0          Particulars  This Scheme  Category\n",
            "1        No. of Stocks           52     47.54\n",
            "2   Top 5 Stock Weight       31.82%    30.29%\n",
            "3  Top 10 Stock Weight       50.44%     47.8%\n",
            "4  Top 3 Sector Weight       31.81%    38.88%\n"
          ]
        }
      ]
    },
    {
      "cell_type": "code",
      "source": [
        "print(pd.DataFrame(p.tables[3]))"
      ],
      "metadata": {
        "colab": {
          "base_uri": "https://localhost:8080/"
        },
        "id": "5qvZ7W5q8f1M",
        "outputId": "4b1bb8ab-fc33-408b-a984-dd4847dd3f6f"
      },
      "execution_count": null,
      "outputs": [
        {
          "output_type": "stream",
          "name": "stdout",
          "text": [
            "                                             0  \\\n",
            "0                            Stock Invested in   \n",
            "1                          State Bank Of India   \n",
            "2                                  ITC Limited   \n",
            "3                              ICICI Bank Ltd.   \n",
            "4                   Ruchi Soya Industries Ltd.   \n",
            "5                       Adani Enterprises Ltd.   \n",
            "6                           Larsen Toubro Ltd.   \n",
            "7   Adani Ports And Special Economic Zone Ltd.   \n",
            "8                     Reliance Industries Ltd.   \n",
            "9             Oil Natural Gas Corporation Ltd.   \n",
            "10                         Ambuja Cements Ltd.   \n",
            "\n",
            "                                       1          2                    3  \\\n",
            "0                                 Sector  Value(Mn)  % of Total Holdings   \n",
            "1                                  Banks     1015.7                7.41%   \n",
            "2                             Cigarettes      907.1                6.62%   \n",
            "3                                  Banks      855.3                6.24%   \n",
            "4                          Consumer food      846.8                6.18%   \n",
            "5                                Trading      735.2                5.37%   \n",
            "6   Engineering, designing, construction      593.1                4.33%   \n",
            "7                                   Port      564.1                4.12%   \n",
            "8                   Refineries/marketing      475.8                3.47%   \n",
            "9                        Oil exploration      463.6                3.38%   \n",
            "10                                Cement      455.3                3.32%   \n",
            "\n",
            "            4                   5                  6         7  \\\n",
            "0   1M Change  1Y Highest Holding  1Y Lowest Holding  Quantity   \n",
            "1       0.89%    8.28% (Oct 2021)    3.3% (Jul 2021)   21.80 L   \n",
            "2       0.01%    9.34% (Nov 2021)   4.75% (Apr 2022)   33.17 L   \n",
            "3       0.49%    6.24% (Jun 2022)   3.04% (Sep 2021)   12.09 L   \n",
            "4       0.54%    6.18% (Jun 2022)      0% (Jul 2021)    7.98 L   \n",
            "5       0.02%    7.79% (Nov 2021)      0% (Jul 2021)    3.36 L   \n",
            "6      -0.30%    9.45% (Oct 2021)   1.52% (Nov 2021)    3.81 L   \n",
            "7      -0.45%    6.77% (Jan 2022)   2.57% (Jul 2021)    8.39 L   \n",
            "8       0.63%    9.59% (Aug 2021)      0% (Jul 2021)    1.83 L   \n",
            "9       3.27%    3.38% (Jun 2022)      0% (Jul 2021)   30.59 L   \n",
            "10     -0.08%     3.4% (May 2022)      0% (Jul 2021)   12.54 L   \n",
            "\n",
            "                   8  \n",
            "0   1M Change in Qty  \n",
            "1             2.89 L  \n",
            "2               0.00  \n",
            "3             1.72 L  \n",
            "4            97.00 k  \n",
            "5               0.00  \n",
            "6               0.00  \n",
            "7               0.00  \n",
            "8            36.50 k  \n",
            "9            29.57 L  \n",
            "10            1.71 k  \n"
          ]
        }
      ]
    },
    {
      "cell_type": "code",
      "source": [
        ""
      ],
      "metadata": {
        "id": "eXf9N89c87yI"
      },
      "execution_count": null,
      "outputs": []
    },
    {
      "cell_type": "code",
      "source": [
        "\n"
      ],
      "metadata": {
        "id": "Qc4PSa-L8l7C"
      },
      "execution_count": null,
      "outputs": []
    },
    {
      "cell_type": "code",
      "source": [
        "df = get_data(CANARA_URL)"
      ],
      "metadata": {
        "id": "KxYmAQog9M40"
      },
      "execution_count": null,
      "outputs": []
    },
    {
      "cell_type": "code",
      "source": [
        "df = df.rename(columns=df.iloc[0]).drop(df.index[0])"
      ],
      "metadata": {
        "id": "JzHnfuun-o69"
      },
      "execution_count": null,
      "outputs": []
    },
    {
      "cell_type": "code",
      "source": [
        "df[['Sector', '% of Total Holdings']]"
      ],
      "metadata": {
        "colab": {
          "base_uri": "https://localhost:8080/",
          "height": 363
        },
        "id": "iW2OkGLY9RBZ",
        "outputId": "81d0b316-1959-4c3e-a419-28191ce8f6c6"
      },
      "execution_count": null,
      "outputs": [
        {
          "output_type": "execute_result",
          "data": {
            "text/plain": [
              "                                  Sector % of Total Holdings\n",
              "1                                  Banks               7.41%\n",
              "2                             Cigarettes               6.62%\n",
              "3                                  Banks               6.24%\n",
              "4                          Consumer food               6.18%\n",
              "5                                Trading               5.37%\n",
              "6   Engineering, designing, construction               4.33%\n",
              "7                                   Port               4.12%\n",
              "8                   Refineries/marketing               3.47%\n",
              "9                        Oil exploration               3.38%\n",
              "10                                Cement               3.32%"
            ],
            "text/html": [
              "\n",
              "  <div id=\"df-a331fd4a-cd21-420a-bd85-5d2386da6570\">\n",
              "    <div class=\"colab-df-container\">\n",
              "      <div>\n",
              "<style scoped>\n",
              "    .dataframe tbody tr th:only-of-type {\n",
              "        vertical-align: middle;\n",
              "    }\n",
              "\n",
              "    .dataframe tbody tr th {\n",
              "        vertical-align: top;\n",
              "    }\n",
              "\n",
              "    .dataframe thead th {\n",
              "        text-align: right;\n",
              "    }\n",
              "</style>\n",
              "<table border=\"1\" class=\"dataframe\">\n",
              "  <thead>\n",
              "    <tr style=\"text-align: right;\">\n",
              "      <th></th>\n",
              "      <th>Sector</th>\n",
              "      <th>% of Total Holdings</th>\n",
              "    </tr>\n",
              "  </thead>\n",
              "  <tbody>\n",
              "    <tr>\n",
              "      <th>1</th>\n",
              "      <td>Banks</td>\n",
              "      <td>7.41%</td>\n",
              "    </tr>\n",
              "    <tr>\n",
              "      <th>2</th>\n",
              "      <td>Cigarettes</td>\n",
              "      <td>6.62%</td>\n",
              "    </tr>\n",
              "    <tr>\n",
              "      <th>3</th>\n",
              "      <td>Banks</td>\n",
              "      <td>6.24%</td>\n",
              "    </tr>\n",
              "    <tr>\n",
              "      <th>4</th>\n",
              "      <td>Consumer food</td>\n",
              "      <td>6.18%</td>\n",
              "    </tr>\n",
              "    <tr>\n",
              "      <th>5</th>\n",
              "      <td>Trading</td>\n",
              "      <td>5.37%</td>\n",
              "    </tr>\n",
              "    <tr>\n",
              "      <th>6</th>\n",
              "      <td>Engineering, designing, construction</td>\n",
              "      <td>4.33%</td>\n",
              "    </tr>\n",
              "    <tr>\n",
              "      <th>7</th>\n",
              "      <td>Port</td>\n",
              "      <td>4.12%</td>\n",
              "    </tr>\n",
              "    <tr>\n",
              "      <th>8</th>\n",
              "      <td>Refineries/marketing</td>\n",
              "      <td>3.47%</td>\n",
              "    </tr>\n",
              "    <tr>\n",
              "      <th>9</th>\n",
              "      <td>Oil exploration</td>\n",
              "      <td>3.38%</td>\n",
              "    </tr>\n",
              "    <tr>\n",
              "      <th>10</th>\n",
              "      <td>Cement</td>\n",
              "      <td>3.32%</td>\n",
              "    </tr>\n",
              "  </tbody>\n",
              "</table>\n",
              "</div>\n",
              "      <button class=\"colab-df-convert\" onclick=\"convertToInteractive('df-a331fd4a-cd21-420a-bd85-5d2386da6570')\"\n",
              "              title=\"Convert this dataframe to an interactive table.\"\n",
              "              style=\"display:none;\">\n",
              "        \n",
              "  <svg xmlns=\"http://www.w3.org/2000/svg\" height=\"24px\"viewBox=\"0 0 24 24\"\n",
              "       width=\"24px\">\n",
              "    <path d=\"M0 0h24v24H0V0z\" fill=\"none\"/>\n",
              "    <path d=\"M18.56 5.44l.94 2.06.94-2.06 2.06-.94-2.06-.94-.94-2.06-.94 2.06-2.06.94zm-11 1L8.5 8.5l.94-2.06 2.06-.94-2.06-.94L8.5 2.5l-.94 2.06-2.06.94zm10 10l.94 2.06.94-2.06 2.06-.94-2.06-.94-.94-2.06-.94 2.06-2.06.94z\"/><path d=\"M17.41 7.96l-1.37-1.37c-.4-.4-.92-.59-1.43-.59-.52 0-1.04.2-1.43.59L10.3 9.45l-7.72 7.72c-.78.78-.78 2.05 0 2.83L4 21.41c.39.39.9.59 1.41.59.51 0 1.02-.2 1.41-.59l7.78-7.78 2.81-2.81c.8-.78.8-2.07 0-2.86zM5.41 20L4 18.59l7.72-7.72 1.47 1.35L5.41 20z\"/>\n",
              "  </svg>\n",
              "      </button>\n",
              "      \n",
              "  <style>\n",
              "    .colab-df-container {\n",
              "      display:flex;\n",
              "      flex-wrap:wrap;\n",
              "      gap: 12px;\n",
              "    }\n",
              "\n",
              "    .colab-df-convert {\n",
              "      background-color: #E8F0FE;\n",
              "      border: none;\n",
              "      border-radius: 50%;\n",
              "      cursor: pointer;\n",
              "      display: none;\n",
              "      fill: #1967D2;\n",
              "      height: 32px;\n",
              "      padding: 0 0 0 0;\n",
              "      width: 32px;\n",
              "    }\n",
              "\n",
              "    .colab-df-convert:hover {\n",
              "      background-color: #E2EBFA;\n",
              "      box-shadow: 0px 1px 2px rgba(60, 64, 67, 0.3), 0px 1px 3px 1px rgba(60, 64, 67, 0.15);\n",
              "      fill: #174EA6;\n",
              "    }\n",
              "\n",
              "    [theme=dark] .colab-df-convert {\n",
              "      background-color: #3B4455;\n",
              "      fill: #D2E3FC;\n",
              "    }\n",
              "\n",
              "    [theme=dark] .colab-df-convert:hover {\n",
              "      background-color: #434B5C;\n",
              "      box-shadow: 0px 1px 3px 1px rgba(0, 0, 0, 0.15);\n",
              "      filter: drop-shadow(0px 1px 2px rgba(0, 0, 0, 0.3));\n",
              "      fill: #FFFFFF;\n",
              "    }\n",
              "  </style>\n",
              "\n",
              "      <script>\n",
              "        const buttonEl =\n",
              "          document.querySelector('#df-a331fd4a-cd21-420a-bd85-5d2386da6570 button.colab-df-convert');\n",
              "        buttonEl.style.display =\n",
              "          google.colab.kernel.accessAllowed ? 'block' : 'none';\n",
              "\n",
              "        async function convertToInteractive(key) {\n",
              "          const element = document.querySelector('#df-a331fd4a-cd21-420a-bd85-5d2386da6570');\n",
              "          const dataTable =\n",
              "            await google.colab.kernel.invokeFunction('convertToInteractive',\n",
              "                                                     [key], {});\n",
              "          if (!dataTable) return;\n",
              "\n",
              "          const docLinkHtml = 'Like what you see? Visit the ' +\n",
              "            '<a target=\"_blank\" href=https://colab.research.google.com/notebooks/data_table.ipynb>data table notebook</a>'\n",
              "            + ' to learn more about interactive tables.';\n",
              "          element.innerHTML = '';\n",
              "          dataTable['output_type'] = 'display_data';\n",
              "          await google.colab.output.renderOutput(dataTable, element);\n",
              "          const docLink = document.createElement('div');\n",
              "          docLink.innerHTML = docLinkHtml;\n",
              "          element.appendChild(docLink);\n",
              "        }\n",
              "      </script>\n",
              "    </div>\n",
              "  </div>\n",
              "  "
            ]
          },
          "metadata": {},
          "execution_count": 73
        }
      ]
    },
    {
      "cell_type": "code",
      "source": [
        "for x in df.columns:\n",
        "  print(x)"
      ],
      "metadata": {
        "colab": {
          "base_uri": "https://localhost:8080/"
        },
        "id": "4Ffe-voX-XEa",
        "outputId": "2908ee66-fc4b-4bf0-cdfd-20cea405d36f"
      },
      "execution_count": null,
      "outputs": [
        {
          "output_type": "stream",
          "name": "stdout",
          "text": [
            "0\n",
            "1\n",
            "2\n",
            "3\n",
            "4\n",
            "5\n",
            "6\n",
            "7\n",
            "8\n"
          ]
        }
      ]
    },
    {
      "cell_type": "code",
      "source": [
        ""
      ],
      "metadata": {
        "id": "J46RftNs-6yK"
      },
      "execution_count": null,
      "outputs": []
    }
  ]
}